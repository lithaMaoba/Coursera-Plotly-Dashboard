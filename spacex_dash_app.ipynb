{
 "cells": [
  {
   "cell_type": "code",
   "execution_count": 1,
   "metadata": {},
   "outputs": [
    {
     "name": "stdout",
     "output_type": "stream",
     "text": [
      "Requirement already satisfied: jupyter_dash in c:\\users\\letshabom\\documents\\anaconda3\\lib\\site-packages (0.4.0)\n",
      "Requirement already satisfied: dash in c:\\users\\letshabom\\documents\\anaconda3\\lib\\site-packages (from jupyter_dash) (2.0.0)\n",
      "Requirement already satisfied: requests in c:\\users\\letshabom\\documents\\anaconda3\\lib\\site-packages (from jupyter_dash) (2.24.0)\n",
      "Requirement already satisfied: flask in c:\\users\\letshabom\\documents\\anaconda3\\lib\\site-packages (from jupyter_dash) (1.1.2)\n",
      "Requirement already satisfied: ansi2html in c:\\users\\letshabom\\documents\\anaconda3\\lib\\site-packages (from jupyter_dash) (1.6.0)\n",
      "Requirement already satisfied: ipython in c:\\users\\letshabom\\documents\\anaconda3\\lib\\site-packages (from jupyter_dash) (7.19.0)\n",
      "Requirement already satisfied: retrying in c:\\users\\letshabom\\documents\\anaconda3\\lib\\site-packages (from jupyter_dash) (1.3.3)\n",
      "Requirement already satisfied: ipykernel in c:\\users\\letshabom\\documents\\anaconda3\\lib\\site-packages (from jupyter_dash) (5.3.4)\n",
      "Requirement already satisfied: flask-compress in c:\\users\\letshabom\\documents\\anaconda3\\lib\\site-packages (from dash->jupyter_dash) (1.10.1)\n",
      "Requirement already satisfied: dash-core-components==2.0.0 in c:\\users\\letshabom\\documents\\anaconda3\\lib\\site-packages (from dash->jupyter_dash) (2.0.0)\n",
      "Requirement already satisfied: dash-table==5.0.0 in c:\\users\\letshabom\\documents\\anaconda3\\lib\\site-packages (from dash->jupyter_dash) (5.0.0)\n",
      "Requirement already satisfied: plotly>=5.0.0 in c:\\users\\letshabom\\documents\\anaconda3\\lib\\site-packages (from dash->jupyter_dash) (5.5.0)\n",
      "Requirement already satisfied: dash-html-components==2.0.0 in c:\\users\\letshabom\\documents\\anaconda3\\lib\\site-packages (from dash->jupyter_dash) (2.0.0)\n",
      "Requirement already satisfied: urllib3!=1.25.0,!=1.25.1,<1.26,>=1.21.1 in c:\\users\\letshabom\\documents\\anaconda3\\lib\\site-packages (from requests->jupyter_dash) (1.25.11)\n",
      "Requirement already satisfied: chardet<4,>=3.0.2 in c:\\users\\letshabom\\documents\\anaconda3\\lib\\site-packages (from requests->jupyter_dash) (3.0.4)\n",
      "Requirement already satisfied: idna<3,>=2.5 in c:\\users\\letshabom\\documents\\anaconda3\\lib\\site-packages (from requests->jupyter_dash) (2.10)\n",
      "Requirement already satisfied: certifi>=2017.4.17 in c:\\users\\letshabom\\documents\\anaconda3\\lib\\site-packages (from requests->jupyter_dash) (2020.6.20)\n",
      "Requirement already satisfied: Werkzeug>=0.15 in c:\\users\\letshabom\\documents\\anaconda3\\lib\\site-packages (from flask->jupyter_dash) (1.0.1)\n",
      "Requirement already satisfied: itsdangerous>=0.24 in c:\\users\\letshabom\\documents\\anaconda3\\lib\\site-packages (from flask->jupyter_dash) (1.1.0)\n",
      "Requirement already satisfied: click>=5.1 in c:\\users\\letshabom\\documents\\anaconda3\\lib\\site-packages (from flask->jupyter_dash) (7.1.2)\n",
      "Requirement already satisfied: Jinja2>=2.10.1 in c:\\users\\letshabom\\documents\\anaconda3\\lib\\site-packages (from flask->jupyter_dash) (2.11.2)\n",
      "Requirement already satisfied: prompt-toolkit!=3.0.0,!=3.0.1,<3.1.0,>=2.0.0 in c:\\users\\letshabom\\documents\\anaconda3\\lib\\site-packages (from ipython->jupyter_dash) (3.0.8)\n",
      "Requirement already satisfied: traitlets>=4.2 in c:\\users\\letshabom\\documents\\anaconda3\\lib\\site-packages (from ipython->jupyter_dash) (5.0.5)\n",
      "Requirement already satisfied: setuptools>=18.5 in c:\\users\\letshabom\\documents\\anaconda3\\lib\\site-packages (from ipython->jupyter_dash) (50.3.1.post20201107)\n",
      "Requirement already satisfied: colorama; sys_platform == \"win32\" in c:\\users\\letshabom\\documents\\anaconda3\\lib\\site-packages (from ipython->jupyter_dash) (0.4.4)\n",
      "Requirement already satisfied: pickleshare in c:\\users\\letshabom\\documents\\anaconda3\\lib\\site-packages (from ipython->jupyter_dash) (0.7.5)\n",
      "Requirement already satisfied: decorator in c:\\users\\letshabom\\documents\\anaconda3\\lib\\site-packages (from ipython->jupyter_dash) (4.4.2)\n",
      "Requirement already satisfied: backcall in c:\\users\\letshabom\\documents\\anaconda3\\lib\\site-packages (from ipython->jupyter_dash) (0.2.0)\n",
      "Requirement already satisfied: pygments in c:\\users\\letshabom\\documents\\anaconda3\\lib\\site-packages (from ipython->jupyter_dash) (2.7.2)\n",
      "Requirement already satisfied: jedi>=0.10 in c:\\users\\letshabom\\documents\\anaconda3\\lib\\site-packages (from ipython->jupyter_dash) (0.17.1)\n",
      "Requirement already satisfied: six>=1.7.0 in c:\\users\\letshabom\\documents\\anaconda3\\lib\\site-packages (from retrying->jupyter_dash) (1.15.0)\n",
      "Requirement already satisfied: tornado>=4.2 in c:\\users\\letshabom\\documents\\anaconda3\\lib\\site-packages (from ipykernel->jupyter_dash) (6.0.4)\n",
      "Requirement already satisfied: jupyter-client in c:\\users\\letshabom\\documents\\anaconda3\\lib\\site-packages (from ipykernel->jupyter_dash) (6.1.7)\n",
      "Requirement already satisfied: brotli in c:\\users\\letshabom\\documents\\anaconda3\\lib\\site-packages (from flask-compress->dash->jupyter_dash) (1.0.9)\n",
      "Requirement already satisfied: tenacity>=6.2.0 in c:\\users\\letshabom\\documents\\anaconda3\\lib\\site-packages (from plotly>=5.0.0->dash->jupyter_dash) (8.0.1)\n",
      "Requirement already satisfied: MarkupSafe>=0.23 in c:\\users\\letshabom\\documents\\anaconda3\\lib\\site-packages (from Jinja2>=2.10.1->flask->jupyter_dash) (1.1.1)\n",
      "Requirement already satisfied: wcwidth in c:\\users\\letshabom\\documents\\anaconda3\\lib\\site-packages (from prompt-toolkit!=3.0.0,!=3.0.1,<3.1.0,>=2.0.0->ipython->jupyter_dash) (0.2.5)\n",
      "Requirement already satisfied: ipython-genutils in c:\\users\\letshabom\\documents\\anaconda3\\lib\\site-packages (from traitlets>=4.2->ipython->jupyter_dash) (0.2.0)\n",
      "Requirement already satisfied: parso<0.8.0,>=0.7.0 in c:\\users\\letshabom\\documents\\anaconda3\\lib\\site-packages (from jedi>=0.10->ipython->jupyter_dash) (0.7.0)\n",
      "Requirement already satisfied: jupyter-core>=4.6.0 in c:\\users\\letshabom\\documents\\anaconda3\\lib\\site-packages (from jupyter-client->ipykernel->jupyter_dash) (4.6.3)\n",
      "Requirement already satisfied: python-dateutil>=2.1 in c:\\users\\letshabom\\documents\\anaconda3\\lib\\site-packages (from jupyter-client->ipykernel->jupyter_dash) (2.8.1)\n",
      "Requirement already satisfied: pyzmq>=13 in c:\\users\\letshabom\\documents\\anaconda3\\lib\\site-packages (from jupyter-client->ipykernel->jupyter_dash) (19.0.2)\n",
      "Requirement already satisfied: pywin32>=1.0; sys_platform == \"win32\" in c:\\users\\letshabom\\documents\\anaconda3\\lib\\site-packages (from jupyter-core>=4.6.0->jupyter-client->ipykernel->jupyter_dash) (227)\n"
     ]
    }
   ],
   "source": [
    "!pip install jupyter_dash"
   ]
  },
  {
   "cell_type": "code",
   "execution_count": 2,
   "metadata": {},
   "outputs": [
    {
     "name": "stderr",
     "output_type": "stream",
     "text": [
      "<ipython-input-2-74714d25a243>:5: UserWarning: \n",
      "The dash_html_components package is deprecated. Please replace\n",
      "`import dash_html_components as html` with `from dash import html`\n",
      "  import dash_html_components as html\n",
      "<ipython-input-2-74714d25a243>:6: UserWarning: \n",
      "The dash_core_components package is deprecated. Please replace\n",
      "`import dash_core_components as dcc` with `from dash import dcc`\n",
      "  import dash_core_components as dcc\n"
     ]
    }
   ],
   "source": [
    "# Import required libraries\n",
    "import pandas as pd\n",
    "import dash\n",
    "from jupyter_dash import JupyterDash\n",
    "import dash_html_components as html\n",
    "import dash_core_components as dcc\n",
    "from dash.dependencies import Input, Output\n",
    "import plotly.express as px"
   ]
  },
  {
   "cell_type": "code",
   "execution_count": 3,
   "metadata": {},
   "outputs": [],
   "source": [
    "# Read the airline data into pandas dataframe and define the min and max payloads.\n",
    "spacex_df = pd.read_csv(\"https://cf-courses-data.s3.us.cloud-object-storage.appdomain.cloud/IBM-DS0321EN-SkillsNetwork/datasets/spacex_launch_dash.csv\")\n",
    "max_payload = spacex_df['Payload Mass (kg)'].max()\n",
    "min_payload = spacex_df['Payload Mass (kg)'].min()"
   ]
  },
  {
   "cell_type": "code",
   "execution_count": 14,
   "metadata": {},
   "outputs": [],
   "source": [
    "# Create a dash application\n",
    "app = JupyterDash(__name__)\n",
    "\n",
    "# Create an app layout\n",
    "app.layout = html.Div(children=[html.H1('SpaceX Launch Records Dashboard',\n",
    "                                        style={'textAlign': 'center', 'color': '#503D36', 'font-size': 40}),\n",
    "                                # TASK 1: Add a dropdown list to enable Launch Site selection\n",
    "                                # The default select value is for ALL sites\n",
    "                                    dcc.Dropdown(id='site_dropdown',\n",
    "                                        options=[{'label': 'All Sites', 'value': 'ALL'},\n",
    "                                        {'label': 'CCAFS LC-40', 'value': 'CCAFS LC-40'},\n",
    "                                        {'label': 'CCAFS SLC-40', 'value': 'CCAFS SLC-40'},\n",
    "                                        {'label': 'KSC LC-39A', 'value': 'KSC LC-39A'},\n",
    "                                        {'label': 'VAFB SLC-4E', 'value': 'VAFB SLC-4E'}],\n",
    "                                        value='ALL',\n",
    "                                        placeholder=\"Select a Launch Site here\",\n",
    "                                        searchable=True\n",
    "                                        ),\n",
    "                                        html.Br(),\n",
    "                                    html.Div(dcc.Graph(id='success-pie-chart')),\n",
    "                                            html.Br(),\n",
    "                                    \n",
    "                                            html.P(\"Payload range (Kg):\"),\n",
    "                                # TASK 3: Add a slider to select payload range\n",
    "                                #dcc.RangeSlider(id='payload-slider',...)\n",
    "                                dcc.RangeSlider(id='payload-slider',\n",
    "                                                min=0, max=10000, step=1000,\n",
    "                                                marks={0:'0kg', 1000:'1000kg',2000:'2000kg', 3000:'3000kg',\n",
    "                                                4000:'4000kg', 5000:'5000kg',6000:'6000kg', 7000:'7000kg', 8000:'8000kg',\n",
    "                                                9000:'9000kg',10000:'10000kg'},\n",
    "                                                value=[min_payload, max_payload]),\n",
    "                                # TASK 4: Add a scatter chart to show the correlation between payload and launch success\n",
    "                                html.Div(dcc.Graph(id='success-payload-scatter-chart')),\n",
    "                                ])\n",
    "\n",
    "# TASK 2:\n",
    "# Add a callback function for `site-dropdown` as input, `success-pie-chart` as output\n",
    "# Callback decorator\n",
    "@app.callback(Output(component_id='success-pie-chart', component_property='figure'),\n",
    "              Input(component_id='site_dropdown', component_property='value'))\n",
    "\n",
    "def get_pie_chart(site_dropdown):\n",
    "    if site_dropdown == 'ALL':\n",
    "        fig = px.pie(spacex_df, values='class',\n",
    "        names='Launch Site', title='Total Success Launches By site')\n",
    "        return fig\n",
    "    else:\n",
    "        filtered_df = spacex_df[spacex_df['Launch Site'] == site_dropdown].groupby(['Launch Site', 'class']). \\\n",
    "                size().reset_index(name='class count')\n",
    "        title = f\"Total Success Launches for site {site_dropdown}\"\n",
    "        filtered_df = filtered_df\n",
    "        fig = px.pie(filtered_df, values='class count', names='class', title=title)\n",
    "        return fig\n",
    "\n",
    "# TASK 4:\n",
    "# Add a callback function for `site-dropdown` and `payload-slider` as inputs, `success-payload-scatter-chart` as output\n",
    "@app.callback(\n",
    "     Output(component_id='success-payload-scatter-chart',component_property='figure'),\n",
    "     [Input(component_id='site_dropdown',component_property='value'),\n",
    "      Input(component_id=\"payload-slider\", component_property='value')]\n",
    ")\n",
    "\n",
    "def get_scatter_plot(site_dropdown, payload_slider):\n",
    "    if site_dropdown == 'ALL':\n",
    "        low, high=payload_slider\n",
    "        spacex_df1=spacex_df[(spacex_df['Payload Mass (kg)'] >= low) & (spacex_df['Payload Mass (kg)'] <= high)]\n",
    "        fig=px.scatter(spacex_df1, x='Payload Mass (kg)', y='class', color='Booster Version Category',\n",
    "                hover_data=['Booster Version'],\n",
    "                    title='Correlation between Payload and Success for All Sites')\n",
    "        return fig\n",
    "    else:\n",
    "        sites_df=spacex_df1[spacex_df1['Launch Site'] == site_dropdown]\n",
    "        fig=px.scatter(sites_df, x='Payload Mass (kg)', y='class',\n",
    "                        color='Booster Version Category', hover_data=['Booster Version'],\n",
    "                        title='Success Launch for' + site_dropdown + 'Site With Respect to Payload Mass (kg)')\n",
    "        return fig\n",
    "\n"
   ]
  },
  {
   "cell_type": "code",
   "execution_count": 15,
   "metadata": {},
   "outputs": [],
   "source": [
    "# Run the app\n",
    "app.run_server(mode='jupyterlab', port = 8090, dev_tools_ui=True, #debug=True,\n",
    "          dev_tools_hot_reload =True, threaded=True)"
   ]
  },
  {
   "cell_type": "code",
   "execution_count": null,
   "metadata": {},
   "outputs": [],
   "source": []
  }
 ],
 "metadata": {
  "kernelspec": {
   "display_name": "Python 3",
   "language": "python",
   "name": "python3"
  },
  "language_info": {
   "codemirror_mode": {
    "name": "ipython",
    "version": 3
   },
   "file_extension": ".py",
   "mimetype": "text/x-python",
   "name": "python",
   "nbconvert_exporter": "python",
   "pygments_lexer": "ipython3",
   "version": "3.8.5"
  }
 },
 "nbformat": 4,
 "nbformat_minor": 4
}
